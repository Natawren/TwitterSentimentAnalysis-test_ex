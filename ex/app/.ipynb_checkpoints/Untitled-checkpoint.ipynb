{
 "cells": [
  {
   "cell_type": "code",
   "execution_count": 2,
   "metadata": {},
   "outputs": [
    {
     "name": "stderr",
     "output_type": "stream",
     "text": [
      "[nltk_data] Downloading package stopwords to /home/qwerty/nltk_data...\n",
      "[nltk_data]   Package stopwords is already up-to-date!\n",
      "[nltk_data] Downloading package punkt to /home/qwerty/nltk_data...\n",
      "[nltk_data]   Package punkt is already up-to-date!\n"
     ]
    },
    {
     "data": {
      "text/plain": [
       "u\"url - awww, that' bummer. shoulda got david carr third day it. ;d\""
      ]
     },
     "execution_count": 2,
     "metadata": {},
     "output_type": "execute_result"
    }
   ],
   "source": [
    "import pandas as pd\n",
    "import numpy as np\n",
    "import nltk\n",
    "import re\n",
    "from sklearn.feature_extraction.text import CountVectorizer\n",
    "from sklearn.model_selection import train_test_split\n",
    "\n",
    "nltk.download('stopwords')\n",
    "nltk.download('punkt')\n",
    "from nltk.corpus import stopwords\n",
    "from nltk import word_tokenize\n",
    "# from nltk.stem.lancaster import LancasterStemmer\n",
    "from nltk.stem import PorterStemmer\n",
    "\n",
    "\n",
    "\n",
    "def get_dataset():\n",
    "    dataset = pd.read_csv('/home/qwerty/ex/training.csv', encoding='latin1', header = None, names=[\"target\", \"ids\",\"date\", \"flag\", \"user\", \"text\"])\n",
    "    return dataset\n",
    "\n",
    "def preprocessing_of_text(raw_text):\n",
    "    #remove all urls:\n",
    "    without_urls = re.sub(r\"((www\\.S+)|(http\\S+))\", \"URL\", raw_text)\n",
    "    #remove numbers:\n",
    "    without_numbers = re.sub(r\"\\d+\", \"\", without_urls)\n",
    "    #remove #\n",
    "    without_oct = re.sub(r\"#\", \"\", without_numbers)\n",
    "    #remove @\n",
    "    without_at = re.sub(r\"@\\S+\", \"\", without_oct)\n",
    "    #make lower cases:\n",
    "    words = without_at.lower().split()\n",
    "    # remove stop words\n",
    "    result = [w for w in words if not w in stops]\n",
    "    # tokens\n",
    "    tokens = nltk.word_tokenize(\" \".join(result))\n",
    "    # stemming\n",
    "    # lancaster_stemmer = LancasterStemmer()\n",
    "    porter = PorterStemmer()\n",
    "    stems = []\n",
    "    for i in result:\n",
    "    # stems.append(lancaster_stemmer.stem(i))\n",
    "        stems.append(porter.stem(i))\n",
    "    return \" \".join(stems)\n",
    "\n",
    "dataset = get_dataset()\n",
    "train_set, test_set = train_test_split(dataset, test_size=0.3, random_state=42)\n",
    "stops = set(stopwords.words(\"english\"))\n",
    "# all_texts_size = train_set[\"text\"].size\n",
    "clean_set = []\n",
    "dataset.text = dataset.text.apply(lambda x: preprocessing_of_text(x))\n",
    "print(dataset.text[0], dataset.text[1])\n",
    "# for i in range(all_texts_size):\n",
    "#     r = preprocessing_of_text(train_set[\"text\"][i])\n",
    "# #     clean_set.append(r)\n",
    "# print(clean_set )\n",
    "# count_vect = CountVectorizer(analyzer = \"word\", tokenizer = None, preprocessor = None, stop_words = None, max_features = 5000) \n",
    "# data_features = count_vect.fit_transform(clean_set)\n",
    "# data_features = data_features.toarray()\n",
    "# print(data_features.shape)"
   ]
  },
  {
   "cell_type": "code",
   "execution_count": 1,
   "metadata": {},
   "outputs": [
    {
     "ename": "NameError",
     "evalue": "name 'all_texts_size' is not defined",
     "output_type": "error",
     "traceback": [
      "\u001b[0;31m-----------------------------------------------------------------\u001b[0m",
      "\u001b[0;31mNameError\u001b[0m                       Traceback (most recent call last)",
      "\u001b[0;32m<ipython-input-1-b5f613bbaa95>\u001b[0m in \u001b[0;36m<module>\u001b[0;34m()\u001b[0m\n\u001b[0;32m----> 1\u001b[0;31m \u001b[0mall_texts_size\u001b[0m\u001b[0;34m\u001b[0m\u001b[0m\n\u001b[0m",
      "\u001b[0;31mNameError\u001b[0m: name 'all_texts_size' is not defined"
     ]
    }
   ],
   "source": [
    "all_texts_size\n"
   ]
  },
  {
   "cell_type": "code",
   "execution_count": null,
   "metadata": {},
   "outputs": [],
   "source": []
  }
 ],
 "metadata": {
  "kernelspec": {
   "display_name": "Python 2",
   "language": "python",
   "name": "python2"
  },
  "language_info": {
   "codemirror_mode": {
    "name": "ipython",
    "version": 2
   },
   "file_extension": ".py",
   "mimetype": "text/x-python",
   "name": "python",
   "nbconvert_exporter": "python",
   "pygments_lexer": "ipython2",
   "version": "2.7.15rc1"
  }
 },
 "nbformat": 4,
 "nbformat_minor": 2
}
